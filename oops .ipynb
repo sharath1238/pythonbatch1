{
 "cells": [
  {
   "cell_type": "markdown",
   "metadata": {},
   "source": [
    "Python OOPs Concepts\n",
    "Like other general-purpose programming languages, Python is also an object-oriented language since its beginning. \n",
    "It allows us to develop applications using an Object-Oriented approach. In Python,\n",
    "we can easily create and use classes and objects.\n",
    "\n",
    "An object-oriented paradigm is to design the program using classes and objects. \n",
    "The object is related to real-word entities such as book, house, pencil, etc. \n",
    "The oops concept focuses on writing the reusable code. It is a widespread technique to solve the problem by creating objects.\n",
    "\n",
    "Major principles of object-oriented programming system are given below.\n",
    "\n",
    "Class\n",
    "Object\n",
    "Method\n",
    "Inheritance\n",
    "Polymorphism\n",
    "Data Abstraction\n",
    "Encapsulation\n",
    "Class\n",
    "The class can be defined as a collection of objects. \n",
    "It is a logical entity that has some specific attributes and methods. \n",
    "For example: if you have an employee class, then it should contain an attribute and method,\n",
    "    i.e. an email id, name, age, salary, etc."
   ]
  },
  {
   "cell_type": "markdown",
   "metadata": {},
   "source": [
    "#  Inheritance ,Polymorphism ,Data Abstraction ,Encapsulation "
   ]
  },
  {
   "cell_type": "code",
   "execution_count": 4,
   "metadata": {},
   "outputs": [
    {
     "name": "stdout",
     "output_type": "stream",
     "text": [
      "bmw 2019 1cr\n",
      "benz 2020 5cr\n"
     ]
    }
   ],
   "source": [
    " # The class can be defined as a collection of objects.\n",
    "class car:\n",
    "    def __init__(self,modelcar,year,price):\n",
    "        self.modelcar=modelcar\n",
    "        self.year=year\n",
    "        self.price=price\n",
    "    \n",
    "    def display(self):\n",
    "        print(self.modelcar,self.year,self.price)\n",
    "c1=car(\"bmw\",2019,\"1cr\")\n",
    "c2=car(\"i10\",2015,\"5l\")\n",
    "c3=car(\"benz\",2020,\"5cr\")\n",
    "c1.display()\n",
    "c3.display()"
   ]
  },
  {
   "cell_type": "code",
   "execution_count": 9,
   "metadata": {},
   "outputs": [
    {
     "name": "stdout",
     "output_type": "stream",
     "text": [
      "2 50000 Eswcts1234 yes car\n"
     ]
    }
   ],
   "source": [
    "class employee:\n",
    "    def __init__(self,level,salary,id,medical ,transport ):\n",
    "        self.level=level\n",
    "        self.salary=salary\n",
    "        self.id=id\n",
    "        self.medical=medical\n",
    "        self.transport=transport\n",
    "    def display(self):\n",
    "        print(self.level,self.id,self.salary,self.transport,self.medical)\n",
    "sharath=employee(2,\"Eswcts1234\",50000,\"car\",\"yes\")\n",
    "manikanta=employee(1,\"Eswcts1235\",80000,\"car\",\"yes\")\n",
    "pavan=employee(3,\"Eswcts1236\",40000,\"bike\",\"yes\")\n",
    "siva=employee(4,\"Eswcts1237\",45000,\"metro\",\"yes\")\n",
    "\n",
    "sharath.display()\n",
    "    "
   ]
  },
  {
   "cell_type": "markdown",
   "metadata": {},
   "source": [
    "#  Inheritance"
   ]
  },
  {
   "cell_type": "markdown",
   "metadata": {},
   "source": [
    "Python Inheritance\n",
    "Inheritance is an important aspect of the object-oriented paradigm.\n",
    "Inheritance provides code reusability to the program because we can use an existing class to create a new class instead of creating it from scratch.\n",
    "\n",
    "In inheritance, the child class acquires the properties \n",
    "and can access all the data members and functions defined in the parent class.\n",
    "A child class can also provide its specific implementation to the functions of the parent class. \n",
    "In this section of the tutorial, we will discuss inheritance in detail.\n",
    "\n",
    "In python, a derived class can inherit base class by just mentioning the base in the bracket after the derived class name. Consider the following syntax to inherit a base class into the derived class.\n",
    "\n",
    "Python Inheritance"
   ]
  },
  {
   "cell_type": "code",
   "execution_count": 11,
   "metadata": {},
   "outputs": [
    {
     "name": "stdout",
     "output_type": "stream",
     "text": [
      "dog is barking  bow......bow.....\n",
      "animal is speaking\n",
      "cat make sound mawo......mawo....\n",
      "animal is speaking\n"
     ]
    }
   ],
   "source": [
    "class animal:\n",
    "    def speak(self):\n",
    "        print(\"animal is speaking\")\n",
    "class dog(animal):\n",
    "    def bark(self):\n",
    "        print(\"dog is barking  bow......bow.....\")\n",
    "class cat(animal):\n",
    "    def sound(self):\n",
    "        print(\"cat make sound mawo......mawo....\")\n",
    "obj1=dog()\n",
    "obj2=cat()\n",
    "obj1.bark()\n",
    "obj1.speak()\n",
    "obj2.sound()\n",
    "obj2.speak()"
   ]
  },
  {
   "cell_type": "code",
   "execution_count": null,
   "metadata": {},
   "outputs": [],
   "source": [
    "#   constructor __init__"
   ]
  },
  {
   "cell_type": "markdown",
   "metadata": {},
   "source": [
    "Method Overriding\n",
    "We can provide some specific implementation of the parent class method in our child class.\n",
    "When the parent class method is defined in the child class with some specific implementation, \n",
    "then the concept is called method overriding.\n",
    "We may need to perform method overriding in the scenario\n",
    "where the different definition of a parent class method is needed in the child class."
   ]
  },
  {
   "cell_type": "code",
   "execution_count": 15,
   "metadata": {},
   "outputs": [
    {
     "name": "stdout",
     "output_type": "stream",
     "text": [
      "bow......bow.....\n",
      "maw.....maw.....\n"
     ]
    }
   ],
   "source": [
    "class Animal:  \n",
    "    def speak(self):  \n",
    "        print(\"animal is speaking\")  \n",
    "class Dog(Animal):  \n",
    "    def speak(self):  \n",
    "        print(\"bow......bow.....\")\n",
    "class cat(animal):\n",
    "    def speak(self):\n",
    "        print(\"maw.....maw.....\")\n",
    "d = Dog()\n",
    "c=cat()\n",
    "d.speak() \n",
    "c.speak()"
   ]
  },
  {
   "cell_type": "markdown",
   "metadata": {},
   "source": [
    "What is Abstraction\n",
    "Abstraction means hiding the complexity and only showing the essential features of the object. \n",
    "So in a way, Abstraction means hiding the real implementation and we, as a user, knowing only how to use it.\n",
    "\n",
    "Real world example would be a vehicle which we drive with out caring or knowing what all is going underneath.\n",
    "\n",
    "A TV set where we enjoy programs with out knowing the inner details of how TV works."
   ]
  },
  {
   "cell_type": "markdown",
   "metadata": {},
   "source": [
    "Abstraction in Python is achieved by using abstract classes and interfaces.\n",
    "\n",
    "An abstract class is a class that generally provides incomplete functionality and contains one or more abstract methods. Abstract methods are the methods that generally don’t have any implementation, it is left to the sub classes to provide implementation for the abstract methods.\n",
    "\n",
    "Refer this post Abstract Class in Python to know more about abstract class in Python.\n",
    "An interface should just provide the method names without method bodies. Subclasses should provide implementation for all the methods defined in an interface. Note that in Python there is no support for creating interfaces explicitly, you will have to use abstract class. In Python you can create an interface using abstract class. If you create an abstract class which contains only abstract methods that acts as an interface in Python."
   ]
  },
  {
   "cell_type": "code",
   "execution_count": 7,
   "metadata": {},
   "outputs": [
    {
     "name": "stdout",
     "output_type": "stream",
     "text": [
      "credit card amount  10000\n",
      "purchase of amount   1000\n",
      "True\n",
      "water  amount  2000\n",
      "purchase of amount   2000\n",
      "True\n"
     ]
    }
   ],
   "source": [
    "from abc import ABC, abstractmethod\n",
    "class payment(ABC):\n",
    "    def print_slip(self,amount):\n",
    "        print(\"purchase of amount  \",amount)\n",
    "    @abstractmethod\n",
    "    def payment(self,amount):\n",
    "        pass\n",
    "class creditcardpayment(payment):\n",
    "    def payment(self,amount):\n",
    "        print(\"credit card amount \",amount)\n",
    "class waterpayment(payment):\n",
    "    def payment(self,amount):\n",
    "        print(\"water  amount \",amount)\n",
    "obj= creditcardpayment()\n",
    "obj.payment(10000)\n",
    "obj.print_slip(1000)\n",
    "print(isinstance(obj, payment))\n",
    "obj = waterpayment()\n",
    "obj.payment(2000)\n",
    "obj.print_slip(2000)\n",
    "print(isinstance(obj, payment))\n",
    "\n",
    "\n",
    "    "
   ]
  },
  {
   "cell_type": "markdown",
   "metadata": {},
   "source": [
    "In the example there is an abstract class Payment that has an abstract method payment(). There are two child classes CreditCardPayment and MobileWalletPayment derived from Payment that implement the abstract method payment() as per their functionality.\n",
    "\n",
    "As a user we are abstracted from that implementation when an object of CreditCardPayment is created and payment() method is invoked using that object, payment method of CreditCardPayment class is invoked. When an object of MobileWalletPayment is created and payment() method is invoked using that object, payment method of MobileWalletPayment class is invoked."
   ]
  },
  {
   "cell_type": "code",
   "execution_count": 11,
   "metadata": {},
   "outputs": [
    {
     "name": "stdout",
     "output_type": "stream",
     "text": [
      "We are inside test_class task\n",
      "Passed value:  100\n",
      "test_obj is instance of Absclass?  True\n"
     ]
    }
   ],
   "source": [
    "from abc import ABC, abstractmethod\n",
    "class Absclass(ABC):\n",
    "    def print(self,x):\n",
    "        print(\"Passed value: \", x)\n",
    "    @abstractmethod\n",
    "    def task(self):\n",
    "        print(\"We are inside Absclass task\")\n",
    "class test_class(Absclass):\n",
    "    def task(self):\n",
    "        print(\"We are inside test_class task\")\n",
    " \n",
    "\n",
    " \n",
    " # object of test_class created\n",
    "test_obj = test_class()\n",
    "test_obj.task()\n",
    "test_obj.print(100)\n",
    "print(\"test_obj is instance of Absclass? \", isinstance(test_obj, Absclass))\n",
    "\n"
   ]
  },
  {
   "cell_type": "code",
   "execution_count": 12,
   "metadata": {},
   "outputs": [
    {
     "name": "stdout",
     "output_type": "stream",
     "text": [
      "User Mike Dallas subscribed for 8 months\n",
      "Fee is 17600\n",
      "User Goldie Hawn subscribed for 6 months\n",
      "Fee is 9000\n",
      "User Ashish Mishra subscribed for 10 months\n",
      "Fee is 22000\n"
     ]
    }
   ],
   "source": [
    "from abc import ABC, abstractmethod\n",
    "\n",
    "class User(ABC):\n",
    "    def __init__(self, name, num_of_months):\n",
    "        self.name = name\n",
    "        self.num_of_months = num_of_months\n",
    "\n",
    "    # concrete method\n",
    "    def display_user(self):\n",
    "        print('User %s subscribed for %d months' % (self.name, self.num_of_months))\n",
    "\n",
    "    # abstract method\n",
    "    @abstractmethod\n",
    "    def process_fee(self):\n",
    "        pass\n",
    "class PlatinumUser(User):\n",
    "    PLATINUM_PACKAGE = 2200\n",
    "\n",
    "    def process_fee(self):\n",
    "        return self.num_of_months * PlatinumUser.PLATINUM_PACKAGE\n",
    "\n",
    "\n",
    "class GoldUser(User):\n",
    "    Gold_PACKAGE = 1500\n",
    "\n",
    "    def process_fee(self):\n",
    "        return self.num_of_months * GoldUser.Gold_PACKAGE\n",
    "obj = PlatinumUser('Mike Dallas', 8)\n",
    "obj.display_user()\n",
    "fee = obj.process_fee()\n",
    "print('Fee is', fee)\n",
    "\n",
    "obj = GoldUser('Goldie Hawn', 6)\n",
    "obj.display_user()\n",
    "fee = obj.process_fee()\n",
    "print('Fee is', fee)\n",
    "\n",
    "obj = PlatinumUser('Ashish Mishra', 10)\n",
    "obj.display_user()\n",
    "fee = obj.process_fee()\n",
    "print('Fee is', fee)"
   ]
  },
  {
   "cell_type": "markdown",
   "metadata": {},
   "source": [
    "# Encapsulation"
   ]
  },
  {
   "cell_type": "markdown",
   "metadata": {},
   "source": [
    "In an object oriented python program, you can restrict access to methods and variables.\n",
    "This can prevent the data from being modified by accident and is known as encapsulation. "
   ]
  },
  {
   "cell_type": "code",
   "execution_count": null,
   "metadata": {},
   "outputs": [],
   "source": [
    "public methods \n",
    "private methods __\n",
    "protested methods ___"
   ]
  },
  {
   "cell_type": "markdown",
   "metadata": {},
   "source": [
    "example--- 1\n",
    "We create a class Car which has two methods:  drive() and updateSoftware(). \n",
    "    When a car object is created, it will call the private methods __updateSoftware().  \n",
    "\n",
    "This function cannot be called on the object directly, only from within the class."
   ]
  },
  {
   "cell_type": "code",
   "execution_count": 4,
   "metadata": {},
   "outputs": [
    {
     "name": "stdout",
     "output_type": "stream",
     "text": [
      "i am updating software\n",
      "i am driving \n"
     ]
    }
   ],
   "source": [
    "class car:\n",
    "    def __init__(self):\n",
    "        self.__updateSoftware()\n",
    "    def drive (self):\n",
    "        print(\"i am driving \")\n",
    "    def __updateSoftware(self):\n",
    "        print(\"i am updating software\")\n",
    "car1=car()\n",
    "car1.drive()\n",
    "        "
   ]
  },
  {
   "cell_type": "markdown",
   "metadata": {},
   "source": [
    "Benefits of Encapsulation in Python\n",
    "Encapsulation not only ensures better data flow but also protects the data from outside sources.\n",
    "The concept of encapsulation makes the code self-sufficient.\n",
    "It is very helpful in the implementation level, as it prioritizes the ‘how’ type questions, leaving behind the complexities.\n",
    "You should hide the data in the unit to make encapsulation easy and also to secure the data"
   ]
  },
  {
   "cell_type": "markdown",
   "metadata": {},
   "source": [
    "# Using Getter and Setter methods to access private variables\n"
   ]
  },
  {
   "cell_type": "markdown",
   "metadata": {},
   "source": [
    "##  If you want to access and change the private variables, accessor (getter) methods and mutators(setter methods) should be used, as they are part of Class."
   ]
  },
  {
   "cell_type": "code",
   "execution_count": 9,
   "metadata": {},
   "outputs": [
    {
     "name": "stdout",
     "output_type": "stream",
     "text": [
      "Dev\n",
      "30\n",
      "35\n"
     ]
    }
   ],
   "source": [
    "class Person:\n",
    "    def __init__(self, name, age=0):\n",
    "        self.name = name\n",
    "        self.__age = age\n",
    " \n",
    "    def display(self):\n",
    "        print(self.name)\n",
    "        print(self.__age)\n",
    " \n",
    "    def getAge(self):\n",
    "        print(self.__age)\n",
    " \n",
    "    def setAge(self, age):\n",
    "        self.__age = age\n",
    "person = Person('Dev', 30)\n",
    "#accessing using class method\n",
    "person.display()\n",
    "#changing age using setter\n",
    "person.setAge(35)\n",
    "person.getAge()"
   ]
  },
  {
   "cell_type": "code",
   "execution_count": 10,
   "metadata": {},
   "outputs": [
    {
     "name": "stdout",
     "output_type": "stream",
     "text": [
      "sharath \n",
      "29\n"
     ]
    }
   ],
   "source": [
    "class Person:\n",
    "    def __init__(self, name, age=0):\n",
    "        self.name = name\n",
    "        self._age = age\n",
    " \n",
    "    def display(self):\n",
    "        print(self.name)\n",
    "        print(self._age)\n",
    "person = Person('sharath ', 29)\n",
    "#accessing using class method\n",
    "person.display()\n",
    "#accessing directly from outside\n"
   ]
  },
  {
   "cell_type": "code",
   "execution_count": 11,
   "metadata": {},
   "outputs": [
    {
     "name": "stdout",
     "output_type": "stream",
     "text": [
      "sharath \n",
      "29\n"
     ]
    }
   ],
   "source": [
    "print(person.name)\n",
    "print(person._age)"
   ]
  },
  {
   "cell_type": "code",
   "execution_count": 16,
   "metadata": {},
   "outputs": [
    {
     "name": "stdout",
     "output_type": "stream",
     "text": [
      "('sharath', 'sharath')\n",
      "('sharath', 'Eeshwar')\n",
      "('sharath', 'pavan')\n",
      "('sharath', 'manikanta')\n",
      "('sharath', 'siva')\n",
      "('Eeshwar', 'Eeshwar')\n",
      "('Eeshwar', 'pavan')\n",
      "('Eeshwar', 'manikanta')\n",
      "('Eeshwar', 'siva')\n",
      "('pavan', 'pavan')\n",
      "('pavan', 'manikanta')\n",
      "('pavan', 'siva')\n",
      "('manikanta', 'manikanta')\n",
      "('manikanta', 'siva')\n",
      "('siva', 'siva')\n"
     ]
    }
   ],
   "source": [
    "from itertools import combinations_with_replacement\n",
    "list=[\"sharath\",\"Eeshwar\",\"pavan\",\"manikanta\",\"siva\"]\n",
    "for i in combinations_with_replacement(list,2):\n",
    "    print(i)\n"
   ]
  },
  {
   "cell_type": "code",
   "execution_count": 20,
   "metadata": {},
   "outputs": [
    {
     "name": "stdout",
     "output_type": "stream",
     "text": [
      "download speedis 34062527.57555835\n",
      "upload speed is   4216047.985664752\n"
     ]
    }
   ],
   "source": [
    "from speedtest import Speedtest\n",
    "st=Speedtest()\n",
    "print(\"download speedis\",st.download())\n",
    "print(\"upload speed is  \", st.upload())"
   ]
  },
  {
   "cell_type": "code",
   "execution_count": 19,
   "metadata": {},
   "outputs": [
    {
     "name": "stdout",
     "output_type": "stream",
     "text": [
      "Collecting speedtest-cli\n",
      "  Downloading speedtest_cli-2.1.3-py2.py3-none-any.whl (23 kB)\n",
      "Installing collected packages: speedtest-cli\n",
      "Successfully installed speedtest-cli-2.1.3\n"
     ]
    },
    {
     "name": "stderr",
     "output_type": "stream",
     "text": [
      "WARNING: Ignoring invalid distribution -umpy (c:\\users\\sh\\anaconda3\\lib\\site-packages)\n",
      "WARNING: Ignoring invalid distribution -umpy (c:\\users\\sh\\anaconda3\\lib\\site-packages)\n",
      "WARNING: Ignoring invalid distribution -umpy (c:\\users\\sh\\anaconda3\\lib\\site-packages)\n",
      "WARNING: Ignoring invalid distribution -umpy (c:\\users\\sh\\anaconda3\\lib\\site-packages)\n",
      "WARNING: Ignoring invalid distribution -umpy (c:\\users\\sh\\anaconda3\\lib\\site-packages)\n",
      "WARNING: Ignoring invalid distribution -umpy (c:\\users\\sh\\anaconda3\\lib\\site-packages)\n",
      "WARNING: Ignoring invalid distribution -umpy (c:\\users\\sh\\anaconda3\\lib\\site-packages)\n",
      "WARNING: You are using pip version 21.1.1; however, version 21.1.2 is available.\n",
      "You should consider upgrading via the 'c:\\users\\sh\\anaconda3\\python.exe -m pip install --upgrade pip' command.\n"
     ]
    }
   ],
   "source": [
    "!pip install speedtest-cli"
   ]
  },
  {
   "cell_type": "code",
   "execution_count": 22,
   "metadata": {},
   "outputs": [
    {
     "name": "stdout",
     "output_type": "stream",
     "text": [
      "Collecting IMDbPY\n",
      "  Downloading IMDbPY-2021.4.18-py3-none-any.whl (298 kB)\n",
      "Requirement already satisfied: lxml in c:\\users\\sh\\anaconda3\\lib\\site-packages (from IMDbPY) (4.5.2)\n",
      "Requirement already satisfied: SQLAlchemy in c:\\users\\sh\\anaconda3\\lib\\site-packages (from IMDbPY) (1.3.18)\n",
      "Installing collected packages: IMDbPY\n",
      "Successfully installed IMDbPY-2021.4.18\n"
     ]
    },
    {
     "name": "stderr",
     "output_type": "stream",
     "text": [
      "WARNING: Ignoring invalid distribution -umpy (c:\\users\\sh\\anaconda3\\lib\\site-packages)\n",
      "WARNING: Ignoring invalid distribution -umpy (c:\\users\\sh\\anaconda3\\lib\\site-packages)\n",
      "WARNING: Ignoring invalid distribution -umpy (c:\\users\\sh\\anaconda3\\lib\\site-packages)\n",
      "WARNING: Ignoring invalid distribution -umpy (c:\\users\\sh\\anaconda3\\lib\\site-packages)\n",
      "WARNING: Ignoring invalid distribution -umpy (c:\\users\\sh\\anaconda3\\lib\\site-packages)\n",
      "WARNING: Ignoring invalid distribution -umpy (c:\\users\\sh\\anaconda3\\lib\\site-packages)\n",
      "WARNING: Ignoring invalid distribution -umpy (c:\\users\\sh\\anaconda3\\lib\\site-packages)\n",
      "WARNING: You are using pip version 21.1.1; however, version 21.1.2 is available.\n",
      "You should consider upgrading via the 'c:\\users\\sh\\anaconda3\\python.exe -m pip install --upgrade pip' command.\n"
     ]
    }
   ],
   "source": [
    "! pip install IMDbPY"
   ]
  },
  {
   "cell_type": "code",
   "execution_count": 25,
   "metadata": {},
   "outputs": [
    {
     "name": "stdout",
     "output_type": "stream",
     "text": [
      "The Shawshank Redemption\n",
      "The Godfather\n",
      "The Godfather: Part II\n",
      "The Dark Knight\n",
      "12 Angry Men\n",
      "Schindler's List\n",
      "The Lord of the Rings: The Return of the King\n",
      "Pulp Fiction\n",
      "The Good, the Bad and the Ugly\n",
      "The Lord of the Rings: The Fellowship of the Ring\n",
      "Fight Club\n",
      "Forrest Gump\n",
      "Inception\n",
      "The Lord of the Rings: The Two Towers\n",
      "Star Wars: Episode V - The Empire Strikes Back\n",
      "The Matrix\n",
      "Goodfellas\n",
      "One Flew Over the Cuckoo's Nest\n",
      "Seven Samurai\n",
      "Se7en\n"
     ]
    }
   ],
   "source": [
    "import imdb\n",
    "ia=imdb.IMDb()\n",
    "search =ia.get_top250_movies()\n",
    "for i in range(20):\n",
    "    print(search[i])"
   ]
  },
  {
   "cell_type": "code",
   "execution_count": null,
   "metadata": {},
   "outputs": [],
   "source": []
  }
 ],
 "metadata": {
  "kernelspec": {
   "display_name": "Python 3",
   "language": "python",
   "name": "python3"
  },
  "language_info": {
   "codemirror_mode": {
    "name": "ipython",
    "version": 3
   },
   "file_extension": ".py",
   "mimetype": "text/x-python",
   "name": "python",
   "nbconvert_exporter": "python",
   "pygments_lexer": "ipython3",
   "version": "3.7.7"
  }
 },
 "nbformat": 4,
 "nbformat_minor": 4
}
